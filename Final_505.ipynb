{
 "cells": [
  {
   "cell_type": "markdown",
   "id": "a080e085-06c3-4715-9a8b-eabc4864fbd2",
   "metadata": {},
   "source": [
    "# ADS505 Final Project (Team 2)"
   ]
  },
  {
   "cell_type": "markdown",
   "id": "041dac09-1b80-466d-8c57-993b735dc1d8",
   "metadata": {},
   "source": [
    "## Required Packages"
   ]
  },
  {
   "cell_type": "code",
   "execution_count": null,
   "id": "280d55d4-13ce-46dd-b759-62dec3b1241f",
   "metadata": {},
   "outputs": [],
   "source": [
    "import pandas as pd\n",
    "import matplotlib.pyplot as plt\n",
    "import numpy as np\n",
    "import seaborn as sns\n",
    "import warnings\n",
    "\n",
    "warnings.filterwarnings(\"ignore\")"
   ]
  },
  {
   "cell_type": "markdown",
   "id": "b03a95e5-2c4e-41de-8529-d8bd5248dcdb",
   "metadata": {},
   "source": [
    "## Descriptive Analytics"
   ]
  },
  {
   "cell_type": "code",
   "execution_count": null,
   "id": "a3904290-5afa-4227-b354-8585de56b1a3",
   "metadata": {},
   "outputs": [],
   "source": [
    "# load the dataset\n",
    "df = pd.read_csv('./Big_Black_Money_Dataset.csv')\n",
    "df.head()"
   ]
  },
  {
   "cell_type": "code",
   "execution_count": null,
   "id": "59b2fcc9",
   "metadata": {},
   "outputs": [],
   "source": [
    "# Data Structure\n",
    "print(df.info())"
   ]
  },
  {
   "cell_type": "markdown",
   "id": "c7617b22-e453-4229-925d-d370bfde011f",
   "metadata": {},
   "source": [
    "## Univariate Analysis"
   ]
  },
  {
   "cell_type": "code",
   "execution_count": null,
   "id": "a7b2f79f-8946-457d-bf88-bba3d451c414",
   "metadata": {},
   "outputs": [],
   "source": [
    "# Summary statistics\n",
    "print(df.describe())\n",
    "print()\n",
    "\n",
    "# Unique Value Counts\n",
    "print('Unique Column Values Count')\n",
    "print('-------------------------------')\n",
    "print(df.nunique())"
   ]
  },
  {
   "attachments": {},
   "cell_type": "markdown",
   "id": "bef797a4-0e2b-4ca8-a3eb-eaeafdeb5372",
   "metadata": {},
   "source": [
    "## Multivariate Analysis\n",
    "\n",
    "### Correlation Heatmap"
   ]
  },
  {
   "cell_type": "code",
   "execution_count": null,
   "id": "1de3e311-2fe6-4c62-92b1-054b00b7a546",
   "metadata": {},
   "outputs": [],
   "source": [
    "# Define Numeric Variables\n",
    "numeric_predictors = ['Amount (USD)', 'Money Laundering Risk Score',  'Shell Companies Involved']\n",
    "\n",
    "# Init Correlation Matrix\n",
    "corr_matrix = df[numeric_predictors].corr()\n",
    "\n",
    "# Create a heatmap\n",
    "corr_matrix = corr_matrix\n",
    "\n",
    "# Create a mask for the upper triangle\n",
    "mask = np.triu(np.ones_like(corr_matrix, dtype=bool))\n",
    "\n",
    "plt.figure(figsize=(16, 12))\n",
    "heatmap = sns.heatmap(corr_matrix, mask=mask, annot=True, fmt=\".2f\", cmap='coolwarm', linewidths=0.5, annot_kws={\"size\": 8})\n",
    "\n",
    "# Rotate the x and y labels for better readability\n",
    "plt.xticks(rotation=45, ha='right')\n",
    "plt.yticks(rotation=0)\n",
    "plt.title('Correlation Heatmap Global Black Money Dataset')\n",
    "\n",
    "# Show the heatmap\n",
    "plt.show()"
   ]
  },
  {
   "cell_type": "code",
   "execution_count": null,
   "id": "fc98061e",
   "metadata": {},
   "outputs": [],
   "source": [
    "# Distribution of illegal vs legal transactions\n",
    "print(df['Source of Money'].value_counts())\n",
    "\n",
    "sns.countplot(x='Source of Money', data=df)\n",
    "plt.title('Distribution of Legal vs Illegal Transactions')\n",
    "plt.show()"
   ]
  },
  {
   "cell_type": "code",
   "execution_count": null,
   "id": "83fcb101",
   "metadata": {},
   "outputs": [],
   "source": [
    "# Distribution of the overall transaction amounts\n",
    "plt.figure(figsize=(10, 6))\n",
    "sns.histplot(df['Amount (USD)'], bins=50, kde=True)\n",
    "plt.title('Distribution of Transaction Amounts')\n",
    "plt.show()\n",
    "\n",
    "# Boxplot to compare Amount by Source of Money\n",
    "plt.figure(figsize=(10, 6))\n",
    "sns.boxplot(x='Source of Money', y='Amount (USD)', data=df)\n",
    "plt.title('Transaction Amount by Source of Money (Legal vs Illegal)')\n",
    "plt.show()"
   ]
  },
  {
   "cell_type": "code",
   "execution_count": null,
   "id": "f6c3c229",
   "metadata": {},
   "outputs": [],
   "source": [
    "# Money Laundering Risk Score\n",
    "plt.figure(figsize=(10, 6))\n",
    "sns.histplot(df['Money Laundering Risk Score'], bins=10, kde=True)\n",
    "plt.title('Distribution of Money Laundering Risk Score')\n",
    "plt.show()\n",
    "\n",
    "# Boxplot to compare Risk Score by Source of Money\n",
    "plt.figure(figsize=(10, 6))\n",
    "sns.boxplot(x='Source of Money', y='Money Laundering Risk Score', data=df)\n",
    "plt.title('Money Laundering Risk Score by Source of Money')\n",
    "plt.show()"
   ]
  },
  {
   "cell_type": "code",
   "execution_count": null,
   "id": "d2e95bbd",
   "metadata": {},
   "outputs": [],
   "source": [
    "# Top countries for illegal transactions\n",
    "illegal_countries = df[df['Source of Money'] == 'Illegal']['Country'].value_counts().head(10)\n",
    "print(illegal_countries)\n",
    "\n",
    "# top 10 countries\n",
    "plt.figure(figsize=(10, 6))\n",
    "sns.barplot(x=illegal_countries.values, y=illegal_countries.index)\n",
    "plt.title('Top 10 Countries for Illegal Transactions')\n",
    "plt.xlabel('Count of Illegal Transactions')\n",
    "plt.show()"
   ]
  },
  {
   "cell_type": "code",
   "execution_count": null,
   "id": "c7d07914",
   "metadata": {},
   "outputs": [],
   "source": [
    "# Check for missing data\n",
    "print(df.isnull().sum())\n",
    "\n",
    "# Drop rows with missing values if needed\n",
    "df.dropna(inplace=True)"
   ]
  }
 ],
 "metadata": {
  "kernelspec": {
   "display_name": "Python 3 (ipykernel)",
   "language": "python",
   "name": "python3"
  },
  "language_info": {
   "codemirror_mode": {
    "name": "ipython",
    "version": 3
   },
   "file_extension": ".py",
   "mimetype": "text/x-python",
   "name": "python",
   "nbconvert_exporter": "python",
   "pygments_lexer": "ipython3",
   "version": "3.11.5"
  }
 },
 "nbformat": 4,
 "nbformat_minor": 5
}
