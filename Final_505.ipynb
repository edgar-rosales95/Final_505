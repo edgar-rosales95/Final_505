{
 "cells": [
  {
   "cell_type": "code",
   "execution_count": 1,
   "id": "280d55d4-13ce-46dd-b759-62dec3b1241f",
   "metadata": {},
   "outputs": [
    {
     "name": "stdout",
     "output_type": "stream",
     "text": [
      "  Transaction ID       Country  Amount (USD)   Transaction Type  \\\n",
      "0   TX0000000001        Brazil  3.267530e+06  Offshore Transfer   \n",
      "1   TX0000000002         China  4.965767e+06    Stocks Transfer   \n",
      "2   TX0000000003            UK  9.416750e+04    Stocks Transfer   \n",
      "3   TX0000000004           UAE  3.864201e+05    Cash Withdrawal   \n",
      "4   TX0000000005  South Africa  6.433784e+05     Cryptocurrency   \n",
      "\n",
      "   Date of Transaction Person Involved      Industry Destination Country  \\\n",
      "0  2013-01-01 00:00:00     Person_1101  Construction                 USA   \n",
      "1  2013-01-01 01:00:00     Person_7484  Luxury Goods        South Africa   \n",
      "2  2013-01-01 02:00:00     Person_3655  Construction         Switzerland   \n",
      "3  2013-01-01 03:00:00     Person_3226     Oil & Gas              Russia   \n",
      "4  2013-01-01 04:00:00     Person_7975   Real Estate                 USA   \n",
      "\n",
      "   Reported by Authority Source of Money  Money Laundering Risk Score  \\\n",
      "0                   True         Illegal                            6   \n",
      "1                  False         Illegal                            9   \n",
      "2                   True         Illegal                            1   \n",
      "3                  False         Illegal                            7   \n",
      "4                   True         Illegal                            1   \n",
      "\n",
      "   Shell Companies Involved Financial Institution Tax Haven Country  \n",
      "0                         1               Bank_40         Singapore  \n",
      "1                         0              Bank_461           Bahamas  \n",
      "2                         3              Bank_387       Switzerland  \n",
      "3                         2              Bank_353            Panama  \n",
      "4                         9               Bank_57        Luxembourg  \n"
     ]
    }
   ],
   "source": [
    "import pandas as pd\n",
    "import numpy as np\n",
    "from sklearn.model_selection import train_test_split\n",
    "from sklearn.linear_model import LogisticRegression\n",
    "from sklearn.metrics import classification_report, confusion_matrix\n",
    "from sklearn.tree import DecisionTreeClassifier\n",
    "from sklearn import tree\n",
    "import matplotlib.pyplot as plt\n",
    "from sklearn.ensemble import RandomForestClassifier\n",
    "import seaborn as sns\n",
    "import warnings\n",
    "warnings.filterwarnings(\"ignore\")\n",
    "\n",
    "df = pd.read_csv('/Users/bobbymarriott/Desktop/ADS505/Big_Black_Money_Dataset.csv')\n",
    "\n",
    "print(df.head(5))"
   ]
  },
  {
   "cell_type": "code",
   "execution_count": null,
   "metadata": {},
   "outputs": [],
   "source": []
  }
 ],
 "metadata": {
  "kernelspec": {
   "display_name": "Python 3 (ipykernel)",
   "language": "python",
   "name": "python3"
  },
  "language_info": {
   "codemirror_mode": {
    "name": "ipython",
    "version": 3
   },
   "file_extension": ".py",
   "mimetype": "text/x-python",
   "name": "python",
   "nbconvert_exporter": "python",
   "pygments_lexer": "ipython3",
   "version": "3.12.0"
  }
 },
 "nbformat": 4,
 "nbformat_minor": 5
}
