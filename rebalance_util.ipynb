{
 "cells": [
  {
   "cell_type": "code",
   "execution_count": 1,
   "id": "97eda0d9-671d-4d5b-ac4e-5b343d57cc7e",
   "metadata": {},
   "outputs": [],
   "source": [
    "import pandas as pd\n",
    "import numpy as np"
   ]
  },
  {
   "cell_type": "code",
   "execution_count": null,
   "id": "9453d4b1-9410-4677-b2e0-b73765afe3fb",
   "metadata": {},
   "outputs": [],
   "source": [
    "# load the dataset\n",
    "df = pd.read_csv('./Big_Black_Money_Dataset.csv')\n",
    "df.head()"
   ]
  },
  {
   "cell_type": "code",
   "execution_count": null,
   "id": "e337ec60-2cd4-4f93-b400-4ef50ff305e6",
   "metadata": {},
   "outputs": [],
   "source": [
    "# rebalance \"Source of Money\" to 10/90 illegal/legal\n",
    "idx = df[df['Source of Money'] == 'Illegal'].sample(n=6000).index\n",
    "df.loc[idx, ['Source of Money']] = 'Legal'\n"
   ]
  },
  {
   "cell_type": "code",
   "execution_count": null,
   "id": "0b945950-8d62-4a0d-ae0a-ba706517e0e2",
   "metadata": {},
   "outputs": [],
   "source": [
    "# redistribute \"Amount (USD)\" to follow a lognormal distribution\n",
    "\n",
    "# Parameters for lognormal distribution\n",
    "mean = 0 \n",
    "sigma = 1  # Standard deviation\n",
    "\n",
    "# Generate lognormal values\n",
    "num_samples = 10000  # Number of samples\n",
    "lognormal_values = np.random.lognormal(mean, sigma, num_samples)\n",
    "\n",
    "# Scale the values to the range [1, 5250000]\n",
    "scaled_values = 1 + (lognormal_values - lognormal_values.min()) * (5250000 - 1) / (lognormal_values.max() - lognormal_values.min())\n",
    "\n",
    "# Convert to integer\n",
    "scaled_values = scaled_values.astype(int)\n",
    "\n",
    "# reassign back to dataset\n",
    "df['Amount (USD)'] = scaled_values"
   ]
  },
  {
   "cell_type": "code",
   "execution_count": null,
   "id": "22ba85e4-6d14-4f97-9388-ea593ac14722",
   "metadata": {},
   "outputs": [],
   "source": [
    "# redistribute 'Money Laundering Risk Score' to a normal distribution\n",
    "\n",
    "count = len(df)\n",
    "\n",
    "# Parameters for the normal distribution\n",
    "mean = 5  \n",
    "std_dev = 1\n",
    "\n",
    "filtered_values = []\n",
    "# Keep generating until we have 100 values between 1 and 10\n",
    "while len(filtered_values) < count:\n",
    "    # Generate normal distribution values\n",
    "    normal_values = np.random.normal(mean, std_dev, count)\n",
    "    \n",
    "    # Filter values between 1 and 10\n",
    "    valid_values = normal_values[(normal_values >= 1) & (normal_values <= 10)]\n",
    "    \n",
    "    # Add filtered values to the list\n",
    "    filtered_values.extend(valid_values)\n",
    "\n",
    "# Truncate the list to exactly 100 values if necessary\n",
    "filtered_values = filtered_values[:count]\n",
    "\n",
    "# reassign risk score\n",
    "df['Money Laundering Risk Score'] = filtered_values\n",
    "\n",
    "\n",
    "\n",
    "# redistribute 'Money Laundering Risk Score' for illegal transactions on average have higher risk than legal transactions\n",
    "idx = df[df['Source of Money'] == 'Illegal'].index\n",
    "count = len(idx)\n",
    "\n",
    "# Parameters for the normal distribution\n",
    "mean = 7  \n",
    "std_dev = 1\n",
    "\n",
    "filtered_values = []\n",
    "# Keep generating until we have 100 values between 1 and 10\n",
    "while len(filtered_values) < count:\n",
    "    # Generate normal distribution values\n",
    "    normal_values = np.random.normal(mean, std_dev, count)\n",
    "    \n",
    "    # Filter values between 1 and 10\n",
    "    valid_values = normal_values[(normal_values >= 3) & (normal_values <= 10)]\n",
    "    \n",
    "    # Add filtered values to the list\n",
    "    filtered_values.extend(valid_values)\n",
    "\n",
    "# Truncate the list to exactly 100 values if necessary\n",
    "filtered_values = filtered_values[:count]\n",
    "\n",
    "# reassign risk score\n",
    "df.loc[idx, ['Money Laundering Risk Score']] = filtered_values"
   ]
  },
  {
   "cell_type": "code",
   "execution_count": null,
   "id": "a766b737-9a70-467f-b05a-52b4ebc8b5fb",
   "metadata": {},
   "outputs": [],
   "source": [
    "# increase the amount of illegal activities originating from  UAE, Switzerland, and Russia\n",
    "idx = df[df['Source of Money'] == 'Illegal'].sample(n=200).index\n",
    "count = len(idx)\n",
    "\n",
    "options = ['Brazil', 'UK', 'UAE']\n",
    "random_choices = np.random.choice(options, size=count, replace=True)\n",
    "\n",
    "df.loc[idx, ['Country']] = random_choices"
   ]
  },
  {
   "cell_type": "code",
   "execution_count": null,
   "id": "90207a11-d708-4b7e-abd7-40faaac9bf42",
   "metadata": {},
   "outputs": [],
   "source": [
    "# write to file\n",
    "df.to_csv('Big_Black_Money_Dataset_V2.csv')"
   ]
  }
 ],
 "metadata": {
  "kernelspec": {
   "display_name": "Python 3 (ipykernel)",
   "language": "python",
   "name": "python3"
  },
  "language_info": {
   "codemirror_mode": {
    "name": "ipython",
    "version": 3
   },
   "file_extension": ".py",
   "mimetype": "text/x-python",
   "name": "python",
   "nbconvert_exporter": "python",
   "pygments_lexer": "ipython3",
   "version": "3.11.5"
  }
 },
 "nbformat": 4,
 "nbformat_minor": 5
}
